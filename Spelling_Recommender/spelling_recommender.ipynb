{
 "cells": [
  {
   "cell_type": "markdown",
   "metadata": {},
   "source": [
    "# Spelling Recommender"
   ]
  },
  {
   "cell_type": "code",
   "execution_count": 1,
   "metadata": {},
   "outputs": [],
   "source": [
    "# Import library to use\n",
    "import nltk\n",
    "\n",
    "from metric_distance import *"
   ]
  },
  {
   "cell_type": "code",
   "execution_count": 2,
   "metadata": {},
   "outputs": [],
   "source": [
    "# Read text file\n",
    "with open('test.txt', 'r') as f:\n",
    "    text = f.read()"
   ]
  },
  {
   "cell_type": "markdown",
   "metadata": {},
   "source": [
    "## 1. Explore Data"
   ]
  },
  {
   "cell_type": "code",
   "execution_count": 3,
   "metadata": {},
   "outputs": [
    {
     "name": "stdout",
     "output_type": "stream",
     "text": [
      "News is information about curent events. This may be provided through many different media: worrd of mouth, printing, postal systems, braodcasting, electronic communication, and also on the testimony of observers and witnesses to etents. It is also used as a platform to manufacture opinion for the population. \n"
     ]
    }
   ],
   "source": [
    "# Take a look at the content of text\n",
    "print(text)"
   ]
  },
  {
   "cell_type": "markdown",
   "metadata": {},
   "source": [
    "\"News is information about <span style=\"color:red\">curent</span> events. This may be provided through many different media: <span style=\"color:red\">worrd</span> of mouth, printing, postal systems, <span style=\"color:red\">braodcasting</span>, electronic communication, and also on the testimony of observers and witnesses to <span style=\"color:red\">etents</span>. It is also used as a platform to manufacture opinion for the population. \"\n",
    "\n",
    "In above text, it is clear that there are four typos: \"curent\", \"worrd\", \"braodcasting\", \"etents\". The correct words are \"current\", \"word\", \"broadcasting\", \"events\" respectively. "
   ]
  },
  {
   "cell_type": "code",
   "execution_count": 4,
   "metadata": {},
   "outputs": [
    {
     "data": {
      "text/plain": [
       "['News',\n",
       " 'is',\n",
       " 'information',\n",
       " 'about',\n",
       " 'curent',\n",
       " 'events',\n",
       " '.',\n",
       " 'This',\n",
       " 'may',\n",
       " 'be']"
      ]
     },
     "execution_count": 4,
     "metadata": {},
     "output_type": "execute_result"
    }
   ],
   "source": [
    "# If you would like to work with the novel in nltk.Text format you can use 'text1'\n",
    "text_tokens = nltk.word_tokenize(text)\n",
    "text_tokens[:10]"
   ]
  },
  {
   "cell_type": "markdown",
   "metadata": {},
   "source": [
    "## 2. Check Spelling and Recommend Correct Words\n",
    "\n",
    "In the following, I used the function, `spelling_checker`, to check misspelled word, and the recommender should find the word in `correct_spellings` that has the shortest Edit distance."
   ]
  },
  {
   "cell_type": "code",
   "execution_count": 5,
   "metadata": {},
   "outputs": [],
   "source": [
    "from nltk.corpus import words\n",
    "\n",
    "correct_spellings = words.words()"
   ]
  },
  {
   "cell_type": "code",
   "execution_count": 6,
   "metadata": {},
   "outputs": [],
   "source": [
    "lst = list() \n",
    "lst = spelling_checker(text_tokens, correct_spellings)"
   ]
  },
  {
   "cell_type": "code",
   "execution_count": 7,
   "metadata": {},
   "outputs": [
    {
     "name": "stdout",
     "output_type": "stream",
     "text": [
      "News is information about current events . This may be provided through many different media : word of mouth , printing , postal systems , broadcasting , electronic communication , and also on the testimony of observers and witnesss to events . It is also used as a platform to manufacture opinion for the population .\n"
     ]
    }
   ],
   "source": [
    "correct_text = \" \".join(lst)\n",
    "print(correct_text)"
   ]
  },
  {
   "cell_type": "code",
   "execution_count": 8,
   "metadata": {},
   "outputs": [
    {
     "name": "stdout",
     "output_type": "stream",
     "text": [
      "News is information about current events. This may be provided through many different media: word of mouth, printing, postal systems, broadcasting, electronic communication, and also on the testimony of observers and witnesss to events. It is also used as a platform to manufacture opinion for the population .\n"
     ]
    }
   ],
   "source": [
    "# Remove the space infront of punctuation\n",
    "import re\n",
    "regex = r' ([.,\\/#!$%\\^&\\*;:{}=\\-_`~()]) '\n",
    "result = re.sub(regex, r'\\1 ' ,correct_text)\n",
    "print(result)"
   ]
  },
  {
   "cell_type": "markdown",
   "metadata": {},
   "source": [
    "After applying the spelling recommender, the word spellings in the text are all correct now. "
   ]
  },
  {
   "cell_type": "markdown",
   "metadata": {},
   "source": [
    "## 3. Improve Performance and Reduce Computing Time"
   ]
  },
  {
   "cell_type": "code",
   "execution_count": 9,
   "metadata": {},
   "outputs": [
    {
     "name": "stdout",
     "output_type": "stream",
     "text": [
      "Wall time: 1min 19s\n"
     ]
    }
   ],
   "source": [
    "%%time\n",
    "lst = list() \n",
    "lst = spelling_checker(text_tokens, correct_spellings)"
   ]
  },
  {
   "cell_type": "markdown",
   "metadata": {},
   "source": [
    "It is obvious that running above function takes a lot of computing time. In the current example, it is just one paragraph content with 4 misspelled words so the time consuming is acceptable. If one wants to test larger contents with more misspelled words, then one can do parallelize computing actually.   "
   ]
  },
  {
   "cell_type": "code",
   "execution_count": null,
   "metadata": {},
   "outputs": [],
   "source": []
  }
 ],
 "metadata": {
  "kernelspec": {
   "display_name": "Python 3",
   "language": "python",
   "name": "python3"
  },
  "language_info": {
   "codemirror_mode": {
    "name": "ipython",
    "version": 3
   },
   "file_extension": ".py",
   "mimetype": "text/x-python",
   "name": "python",
   "nbconvert_exporter": "python",
   "pygments_lexer": "ipython3",
   "version": "3.6.4"
  }
 },
 "nbformat": 4,
 "nbformat_minor": 2
}
